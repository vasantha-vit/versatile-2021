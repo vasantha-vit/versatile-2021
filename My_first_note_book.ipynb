{
  "nbformat": 4,
  "nbformat_minor": 0,
  "metadata": {
    "colab": {
      "name": "My first note book",
      "provenance": [],
      "authorship_tag": "ABX9TyPFUKLeMyl7O8ObOfj6jA8k",
      "include_colab_link": true
    },
    "kernelspec": {
      "name": "python3",
      "display_name": "Python 3"
    },
    "language_info": {
      "name": "python"
    }
  },
  "cells": [
    {
      "cell_type": "markdown",
      "metadata": {
        "id": "view-in-github",
        "colab_type": "text"
      },
      "source": [
        "<a href=\"https://colab.research.google.com/github/vasantha-vit/versatile-2021/blob/main/My_first_note_book.ipynb\" target=\"_parent\"><img src=\"https://colab.research.google.com/assets/colab-badge.svg\" alt=\"Open In Colab\"/></a>"
      ]
    },
    {
      "cell_type": "code",
      "metadata": {
        "colab": {
          "base_uri": "https://localhost:8080/"
        },
        "id": "YDGeIxDqgOR0",
        "outputId": "3d8cbcca-00bf-4e56-ef44-2f3559c9f594"
      },
      "source": [
        "a=2 \n",
        "b=3 \n",
        "c=2**3 \n",
        "print(c)"
      ],
      "execution_count": 1,
      "outputs": [
        {
          "output_type": "stream",
          "text": [
            "8\n"
          ],
          "name": "stdout"
        }
      ]
    },
    {
      "cell_type": "code",
      "metadata": {
        "colab": {
          "base_uri": "https://localhost:8080/"
        },
        "id": "HDwZjuXxg_rX",
        "outputId": "b40669e1-8dee-481a-9334-acf24e15df1b"
      },
      "source": [
        "b=3 \n",
        "h=2 \n",
        "a=b*h/2 \n",
        "print(a)"
      ],
      "execution_count": 4,
      "outputs": [
        {
          "output_type": "stream",
          "text": [
            "3.0\n"
          ],
          "name": "stdout"
        }
      ]
    },
    {
      "cell_type": "code",
      "metadata": {
        "colab": {
          "base_uri": "https://localhost:8080/"
        },
        "id": "3g7GsrDdhlPA",
        "outputId": "1a0846b7-22de-4576-8426-2429dada0af5"
      },
      "source": [
        "a=4 \n",
        "b=3 \n",
        "c=a*2+b*2 \n",
        "print(c)"
      ],
      "execution_count": 5,
      "outputs": [
        {
          "output_type": "stream",
          "text": [
            "14\n"
          ],
          "name": "stdout"
        }
      ]
    }
  ]
}